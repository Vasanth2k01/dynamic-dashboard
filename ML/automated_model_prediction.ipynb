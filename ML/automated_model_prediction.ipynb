{
 "cells": [
  {
   "cell_type": "markdown",
   "metadata": {},
   "source": [
    "Imports"
   ]
  },
  {
   "cell_type": "code",
   "execution_count": 1,
   "metadata": {},
   "outputs": [
    {
     "name": "stderr",
     "output_type": "stream",
     "text": [
      "2024-04-05 11:42:13.707938: I external/local_tsl/tsl/cuda/cudart_stub.cc:32] Could not find cuda drivers on your machine, GPU will not be used.\n",
      "2024-04-05 11:42:13.710357: I external/local_tsl/tsl/cuda/cudart_stub.cc:32] Could not find cuda drivers on your machine, GPU will not be used.\n",
      "2024-04-05 11:42:13.738026: I tensorflow/core/platform/cpu_feature_guard.cc:210] This TensorFlow binary is optimized to use available CPU instructions in performance-critical operations.\n",
      "To enable the following instructions: AVX2 FMA, in other operations, rebuild TensorFlow with the appropriate compiler flags.\n",
      "2024-04-05 11:42:14.379778: W tensorflow/compiler/tf2tensorrt/utils/py_utils.cc:38] TF-TRT Warning: Could not find TensorRT\n"
     ]
    }
   ],
   "source": [
    "import pandas as pd\n",
    "from tensorflow import keras\n",
    "from sklearn.model_selection import train_test_split\n",
    "from sklearn.metrics import mean_absolute_error, median_absolute_error, mean_squared_error\n",
    "import numpy as np\n",
    "from scipy.stats import chi2_contingency \n"
   ]
  },
  {
   "cell_type": "code",
   "execution_count": 2,
   "metadata": {},
   "outputs": [],
   "source": [
    "from sklearn.linear_model import LinearRegression, LogisticRegression\n",
    "from sklearn.ensemble import RandomForestRegressor, RandomForestClassifier\n",
    "from sklearn.svm import SVC \n",
    "from xgboost import XGBRegressor, XGBClassifier\n",
    "from sklearn.model_selection import GridSearchCV"
   ]
  },
  {
   "cell_type": "code",
   "execution_count": 3,
   "metadata": {},
   "outputs": [
    {
     "name": "stdout",
     "output_type": "stream",
     "text": [
      "    Invoice ID Branch       City Customer type  Gender  \\\n",
      "0  750-67-8428      A     Yangon        Member  Female   \n",
      "1  226-31-3081      C  Naypyitaw        Normal  Female   \n",
      "2  631-41-3108      A     Yangon        Normal    Male   \n",
      "3  123-19-1176      A     Yangon        Member    Male   \n",
      "4  373-73-7910      A     Yangon        Normal    Male   \n",
      "\n",
      "             Product line  Unit price  Quantity   Tax 5%     Total       Date  \\\n",
      "0       Health and beauty       74.69         7  26.1415  548.9715   1/5/2019   \n",
      "1  Electronic accessories       15.28         5   3.8200   80.2200   3/8/2019   \n",
      "2      Home and lifestyle       46.33         7  16.2155  340.5255   3/3/2019   \n",
      "3       Health and beauty       58.22         8  23.2880  489.0480  1/27/2019   \n",
      "4       Sports and travel       86.31         7  30.2085  634.3785   2/8/2019   \n",
      "\n",
      "    Time      Payment    cogs  gross margin percentage  gross income  Rating  \n",
      "0  13:08      Ewallet  522.83                 4.761905       26.1415     9.1  \n",
      "1  10:29         Cash   76.40                 4.761905        3.8200     9.6  \n",
      "2  13:23  Credit card  324.31                 4.761905       16.2155     7.4  \n",
      "3  20:33      Ewallet  465.76                 4.761905       23.2880     8.4  \n",
      "4  10:37      Ewallet  604.17                 4.761905       30.2085     5.3  \n",
      "<class 'pandas.core.frame.DataFrame'>\n",
      "RangeIndex: 1000 entries, 0 to 999\n",
      "Data columns (total 17 columns):\n",
      " #   Column                   Non-Null Count  Dtype  \n",
      "---  ------                   --------------  -----  \n",
      " 0   Invoice ID               1000 non-null   object \n",
      " 1   Branch                   1000 non-null   object \n",
      " 2   City                     1000 non-null   object \n",
      " 3   Customer type            1000 non-null   object \n",
      " 4   Gender                   1000 non-null   object \n",
      " 5   Product line             1000 non-null   object \n",
      " 6   Unit price               1000 non-null   float64\n",
      " 7   Quantity                 1000 non-null   int64  \n",
      " 8   Tax 5%                   1000 non-null   float64\n",
      " 9   Total                    1000 non-null   float64\n",
      " 10  Date                     1000 non-null   object \n",
      " 11  Time                     1000 non-null   object \n",
      " 12  Payment                  1000 non-null   object \n",
      " 13  cogs                     1000 non-null   float64\n",
      " 14  gross margin percentage  1000 non-null   float64\n",
      " 15  gross income             1000 non-null   float64\n",
      " 16  Rating                   1000 non-null   float64\n",
      "dtypes: float64(7), int64(1), object(9)\n",
      "memory usage: 132.9+ KB\n",
      "None\n",
      "        Unit price     Quantity       Tax 5%        Total        cogs  \\\n",
      "count  1000.000000  1000.000000  1000.000000  1000.000000  1000.00000   \n",
      "mean     55.672130     5.510000    15.379369   322.966749   307.58738   \n",
      "std      26.494628     2.923431    11.708825   245.885335   234.17651   \n",
      "min      10.080000     1.000000     0.508500    10.678500    10.17000   \n",
      "25%      32.875000     3.000000     5.924875   124.422375   118.49750   \n",
      "50%      55.230000     5.000000    12.088000   253.848000   241.76000   \n",
      "75%      77.935000     8.000000    22.445250   471.350250   448.90500   \n",
      "max      99.960000    10.000000    49.650000  1042.650000   993.00000   \n",
      "\n",
      "       gross margin percentage  gross income      Rating  \n",
      "count              1000.000000   1000.000000  1000.00000  \n",
      "mean                  4.761905     15.379369     6.97270  \n",
      "std                   0.000000     11.708825     1.71858  \n",
      "min                   4.761905      0.508500     4.00000  \n",
      "25%                   4.761905      5.924875     5.50000  \n",
      "50%                   4.761905     12.088000     7.00000  \n",
      "75%                   4.761905     22.445250     8.50000  \n",
      "max                   4.761905     49.650000    10.00000  \n"
     ]
    }
   ],
   "source": [
    "def load_and_explore_data(file_path):\n",
    "    \"\"\"Loads the sales data and performs basic EDA.\n",
    "\n",
    "    Args:\n",
    "        file_path (str): Path to the CSV file containing sales data.\n",
    "\n",
    "    Returns:\n",
    "        pandas.DataFrame: The loaded and preprocessed DataFrame.\n",
    "    \"\"\"\n",
    "    data = pd.read_csv(path)\n",
    "    \n",
    "    # Basic EDA\n",
    "    print(data.head())  # View first few rows\n",
    "    print(data.info())  # Data types, missing values\n",
    "    print(data.describe())  # Statistical summary\n",
    "\n",
    "    return data \n",
    "\n",
    "# Example usage\n",
    "path = '/home/calibraint/dynamic-dashboard/back-end/supermarket_sales.csv'\n",
    "data = load_and_explore_data(path)\n"
   ]
  },
  {
   "cell_type": "code",
   "execution_count": 4,
   "metadata": {},
   "outputs": [],
   "source": [
    "def identify_categorical_columns(data):\n",
    "    \"\"\"Identifies columns that are likely categorical.\n",
    "\n",
    "    Args:\n",
    "        data (pd.DataFrame): Input DataFrame.\n",
    "\n",
    "    Returns:\n",
    "        list: A list of column names considered categorical.\n",
    "    \"\"\"\n",
    "    categorical_cols = data.select_dtypes(include='object').columns.tolist()\n",
    "    numeric_cols = data.select_dtypes(include=['int64', 'float64']).columns\n",
    "    for col in numeric_cols:\n",
    "        if data[col].nunique() < 30:  # Threshold for identifying potential categorical \n",
    "            categorical_cols.append(col)\n",
    "    return categorical_cols\n"
   ]
  },
  {
   "cell_type": "code",
   "execution_count": 5,
   "metadata": {},
   "outputs": [
    {
     "data": {
      "text/html": [
       "<div>\n",
       "<style scoped>\n",
       "    .dataframe tbody tr th:only-of-type {\n",
       "        vertical-align: middle;\n",
       "    }\n",
       "\n",
       "    .dataframe tbody tr th {\n",
       "        vertical-align: top;\n",
       "    }\n",
       "\n",
       "    .dataframe thead th {\n",
       "        text-align: right;\n",
       "    }\n",
       "</style>\n",
       "<table border=\"1\" class=\"dataframe\">\n",
       "  <thead>\n",
       "    <tr style=\"text-align: right;\">\n",
       "      <th></th>\n",
       "      <th>Unit price</th>\n",
       "      <th>Tax 5%</th>\n",
       "      <th>Total</th>\n",
       "      <th>cogs</th>\n",
       "      <th>gross income</th>\n",
       "      <th>Rating</th>\n",
       "      <th>Invoice ID_101-17-6199</th>\n",
       "      <th>Invoice ID_101-81-4070</th>\n",
       "      <th>Invoice ID_102-06-2002</th>\n",
       "      <th>Invoice ID_102-77-2261</th>\n",
       "      <th>...</th>\n",
       "      <th>Quantity_2</th>\n",
       "      <th>Quantity_3</th>\n",
       "      <th>Quantity_4</th>\n",
       "      <th>Quantity_5</th>\n",
       "      <th>Quantity_6</th>\n",
       "      <th>Quantity_7</th>\n",
       "      <th>Quantity_8</th>\n",
       "      <th>Quantity_9</th>\n",
       "      <th>Quantity_10</th>\n",
       "      <th>gross margin percentage_4.761904762</th>\n",
       "    </tr>\n",
       "  </thead>\n",
       "  <tbody>\n",
       "    <tr>\n",
       "      <th>0</th>\n",
       "      <td>74.69</td>\n",
       "      <td>26.1415</td>\n",
       "      <td>548.9715</td>\n",
       "      <td>522.83</td>\n",
       "      <td>26.1415</td>\n",
       "      <td>9.1</td>\n",
       "      <td>False</td>\n",
       "      <td>False</td>\n",
       "      <td>False</td>\n",
       "      <td>False</td>\n",
       "      <td>...</td>\n",
       "      <td>False</td>\n",
       "      <td>False</td>\n",
       "      <td>False</td>\n",
       "      <td>False</td>\n",
       "      <td>False</td>\n",
       "      <td>True</td>\n",
       "      <td>False</td>\n",
       "      <td>False</td>\n",
       "      <td>False</td>\n",
       "      <td>True</td>\n",
       "    </tr>\n",
       "    <tr>\n",
       "      <th>1</th>\n",
       "      <td>15.28</td>\n",
       "      <td>3.8200</td>\n",
       "      <td>80.2200</td>\n",
       "      <td>76.40</td>\n",
       "      <td>3.8200</td>\n",
       "      <td>9.6</td>\n",
       "      <td>False</td>\n",
       "      <td>False</td>\n",
       "      <td>False</td>\n",
       "      <td>False</td>\n",
       "      <td>...</td>\n",
       "      <td>False</td>\n",
       "      <td>False</td>\n",
       "      <td>False</td>\n",
       "      <td>True</td>\n",
       "      <td>False</td>\n",
       "      <td>False</td>\n",
       "      <td>False</td>\n",
       "      <td>False</td>\n",
       "      <td>False</td>\n",
       "      <td>True</td>\n",
       "    </tr>\n",
       "    <tr>\n",
       "      <th>2</th>\n",
       "      <td>46.33</td>\n",
       "      <td>16.2155</td>\n",
       "      <td>340.5255</td>\n",
       "      <td>324.31</td>\n",
       "      <td>16.2155</td>\n",
       "      <td>7.4</td>\n",
       "      <td>False</td>\n",
       "      <td>False</td>\n",
       "      <td>False</td>\n",
       "      <td>False</td>\n",
       "      <td>...</td>\n",
       "      <td>False</td>\n",
       "      <td>False</td>\n",
       "      <td>False</td>\n",
       "      <td>False</td>\n",
       "      <td>False</td>\n",
       "      <td>True</td>\n",
       "      <td>False</td>\n",
       "      <td>False</td>\n",
       "      <td>False</td>\n",
       "      <td>True</td>\n",
       "    </tr>\n",
       "    <tr>\n",
       "      <th>3</th>\n",
       "      <td>58.22</td>\n",
       "      <td>23.2880</td>\n",
       "      <td>489.0480</td>\n",
       "      <td>465.76</td>\n",
       "      <td>23.2880</td>\n",
       "      <td>8.4</td>\n",
       "      <td>False</td>\n",
       "      <td>False</td>\n",
       "      <td>False</td>\n",
       "      <td>False</td>\n",
       "      <td>...</td>\n",
       "      <td>False</td>\n",
       "      <td>False</td>\n",
       "      <td>False</td>\n",
       "      <td>False</td>\n",
       "      <td>False</td>\n",
       "      <td>False</td>\n",
       "      <td>True</td>\n",
       "      <td>False</td>\n",
       "      <td>False</td>\n",
       "      <td>True</td>\n",
       "    </tr>\n",
       "    <tr>\n",
       "      <th>4</th>\n",
       "      <td>86.31</td>\n",
       "      <td>30.2085</td>\n",
       "      <td>634.3785</td>\n",
       "      <td>604.17</td>\n",
       "      <td>30.2085</td>\n",
       "      <td>5.3</td>\n",
       "      <td>False</td>\n",
       "      <td>False</td>\n",
       "      <td>False</td>\n",
       "      <td>False</td>\n",
       "      <td>...</td>\n",
       "      <td>False</td>\n",
       "      <td>False</td>\n",
       "      <td>False</td>\n",
       "      <td>False</td>\n",
       "      <td>False</td>\n",
       "      <td>True</td>\n",
       "      <td>False</td>\n",
       "      <td>False</td>\n",
       "      <td>False</td>\n",
       "      <td>True</td>\n",
       "    </tr>\n",
       "  </tbody>\n",
       "</table>\n",
       "<p>5 rows × 1631 columns</p>\n",
       "</div>"
      ],
      "text/plain": [
       "   Unit price   Tax 5%     Total    cogs  gross income  Rating  \\\n",
       "0       74.69  26.1415  548.9715  522.83       26.1415     9.1   \n",
       "1       15.28   3.8200   80.2200   76.40        3.8200     9.6   \n",
       "2       46.33  16.2155  340.5255  324.31       16.2155     7.4   \n",
       "3       58.22  23.2880  489.0480  465.76       23.2880     8.4   \n",
       "4       86.31  30.2085  634.3785  604.17       30.2085     5.3   \n",
       "\n",
       "   Invoice ID_101-17-6199  Invoice ID_101-81-4070  Invoice ID_102-06-2002  \\\n",
       "0                   False                   False                   False   \n",
       "1                   False                   False                   False   \n",
       "2                   False                   False                   False   \n",
       "3                   False                   False                   False   \n",
       "4                   False                   False                   False   \n",
       "\n",
       "   Invoice ID_102-77-2261  ...  Quantity_2  Quantity_3  Quantity_4  \\\n",
       "0                   False  ...       False       False       False   \n",
       "1                   False  ...       False       False       False   \n",
       "2                   False  ...       False       False       False   \n",
       "3                   False  ...       False       False       False   \n",
       "4                   False  ...       False       False       False   \n",
       "\n",
       "   Quantity_5  Quantity_6  Quantity_7  Quantity_8  Quantity_9  Quantity_10  \\\n",
       "0       False       False        True       False       False        False   \n",
       "1        True       False       False       False       False        False   \n",
       "2       False       False        True       False       False        False   \n",
       "3       False       False       False        True       False        False   \n",
       "4       False       False        True       False       False        False   \n",
       "\n",
       "   gross margin percentage_4.761904762  \n",
       "0                                 True  \n",
       "1                                 True  \n",
       "2                                 True  \n",
       "3                                 True  \n",
       "4                                 True  \n",
       "\n",
       "[5 rows x 1631 columns]"
      ]
     },
     "execution_count": 5,
     "metadata": {},
     "output_type": "execute_result"
    }
   ],
   "source": [
    "def preprocess_data(data):\n",
    "    \"\"\"Preprocesses data, including categorical feature encoding.\n",
    "\n",
    "    Args:\n",
    "        data (pd.DataFrame): Input DataFrame.\n",
    "\n",
    "    Returns:\n",
    "        pd.DataFrame: Preprocessed DataFrame.\n",
    "    \"\"\"\n",
    "    # Identify categorical columns\n",
    "    categorical_cols = identify_categorical_columns(data)\n",
    "\n",
    "    # One-hot encoding\n",
    "    data = pd.get_dummies(data, columns=categorical_cols)\n",
    "    '''\n",
    "    # Date/Time feature engineering (Example)\n",
    "    data['month'] = pd.to_datetime(data['Date']).dt.month  # Extract month\n",
    "    '''\n",
    "    return data\n",
    "\n",
    "# Example Usage\n",
    "data = pd.read_csv(path)\n",
    "data = preprocess_data(data)  # Data is now preprocessed \n",
    "data.head()"
   ]
  },
  {
   "cell_type": "code",
   "execution_count": null,
   "metadata": {},
   "outputs": [],
   "source": [
    "def find_potential_targets(data):\n",
    "    \"\"\"Identifies columns that are likely candidates for the target variable.\n",
    "\n",
    "    Args:\n",
    "        data (pd.DataFrame): Input DataFrame (preprocessed).\n",
    "\n",
    "    Returns:\n",
    "        list: A list of potential target column names.\n",
    "    \"\"\"\n",
    "\n",
    "    num_cols = data.select_dtypes(include='number').columns\n",
    "\n",
    "    potential_targets = []\n",
    "    for col in num_cols:\n",
    "        # Heuristic 1: Spread of values\n",
    "        if data[col].std() > 0.2:  # Threshold for meaningful standard deviation\n",
    "            potential_targets.append(col)\n",
    "\n",
    "        # Heuristic 2: Correlations with other features\n",
    "        correlations = abs(data.corr()[col]) \n",
    "        num_moderate_correlations = (correlations > 0.3).sum() \n",
    "        if num_moderate_correlations >= 3:  \n",
    "            potential_targets.append(col)           \n",
    "\n",
    "    return list(set(potential_targets))  # Return unique targets"
   ]
  },
  {
   "cell_type": "code",
   "execution_count": 6,
   "metadata": {},
   "outputs": [
    {
     "ename": "NameError",
     "evalue": "name 'find_potential_targets' is not defined",
     "output_type": "error",
     "traceback": [
      "\u001b[0;31m---------------------------------------------------------------------------\u001b[0m",
      "\u001b[0;31mNameError\u001b[0m                                 Traceback (most recent call last)",
      "Cell \u001b[0;32mIn[6], line 1\u001b[0m\n\u001b[0;32m----> 1\u001b[0m \u001b[43mfind_potential_targets\u001b[49m(data)\n",
      "\u001b[0;31mNameError\u001b[0m: name 'find_potential_targets' is not defined"
     ]
    }
   ],
   "source": [
    "find_potential_targets(data)"
   ]
  },
  {
   "cell_type": "code",
   "execution_count": null,
   "metadata": {},
   "outputs": [],
   "source": [
    "def select_best_target(data, potential_targets):\n",
    "    scores = {}\n",
    "    for col in potential_targets:\n",
    "        scores[col] = 0\n",
    "\n",
    "        # Target: Continuous \n",
    "        if data[col].nunique() > 20 and 0.4 < data[col].std() < 1.5: \n",
    "            scores[col] += 2  \n",
    "\n",
    "        # Target: Categorical (many levels)\n",
    "        if data[col].dtype == 'object' and data[col].nunique() / len(data) > 0.3: \n",
    "            scores[col] += 1 \n",
    "\n",
    "    # Secondary Heuristics (Refined)\n",
    "    for col in potential_targets.copy():  \n",
    "        if data[col].isna().sum() > 0.1 * len(data):  # Missing value threshold\n",
    "            potential_targets.remove(col)\n",
    "\n",
    "        if data[col].dtype == 'object' and 'known_related_feature' in data.columns:  \n",
    "            for group in data['known_related_feature'].unique(): \n",
    "                contingency_table = pd.crosstab(data[group], data[col])\n",
    "                chi2, p, _, _ = chi2_contingency(contingency_table)\n",
    "                if p > 0.05:  \n",
    "                    potential_targets.remove(col)\n",
    "                    break  \n",
    "\n",
    "    if potential_targets:\n",
    "        best_target = max(scores, key=scores.get) \n",
    "        return best_target\n",
    "    else:\n",
    "        return None "
   ]
  },
  {
   "cell_type": "code",
   "execution_count": null,
   "metadata": {},
   "outputs": [
    {
     "data": {
      "text/plain": [
       "'Unit price'"
      ]
     },
     "execution_count": 77,
     "metadata": {},
     "output_type": "execute_result"
    }
   ],
   "source": [
    "best_target = select_best_target(data, potential_targets)\n",
    "best_target"
   ]
  },
  {
   "cell_type": "code",
   "execution_count": null,
   "metadata": {},
   "outputs": [
    {
     "name": "stdout",
     "output_type": "stream",
     "text": [
      "Target Column: Unit price\n",
      "Selected Features: ['Unit price', 'Tax 5%', 'Total', 'cogs', 'gross income']\n"
     ]
    }
   ],
   "source": [
    "if best_target:\n",
    "    selected_features = select_features_correlation(data, best_target)\n",
    "    print(\"Target Column:\", best_target)\n",
    "    print(\"Selected Features:\", selected_features)\n",
    "\n",
    "    # ... (Proceed with your modeling using 'best_target' and 'selected_features') ...\n",
    "else:\n",
    "    print(\"Automated target selection unsure. Please review or use a fallback strategy.\")"
   ]
  },
  {
   "cell_type": "code",
   "execution_count": null,
   "metadata": {},
   "outputs": [],
   "source": [
    "def determine_target_type(target_column):\n",
    "    \"\"\"Determines the type of a target column (continuous, categorical, etc.)\"\"\"\n",
    "\n",
    "    if target_column.dtype == 'float' or target_column.dtype == 'int':\n",
    "        # Potential Continuous Target\n",
    "        if target_column.nunique() >= 20:  # Threshold for 'many' unique values\n",
    "            return \"continuous\"\n",
    "        else:\n",
    "            return \"categorical_few\" \n",
    "\n",
    "    elif target_column.dtype == 'object':  # Likely Categorical\n",
    "        if target_column.nunique() / len(target_column) <= 0.05:  #  Few unique values\n",
    "            return \"categorical_binary\"  \n",
    "        else:\n",
    "            return \"categorical_many\"\n",
    "\n",
    "    else:\n",
    "        return \"unsupported_type\"  \n"
   ]
  },
  {
   "cell_type": "code",
   "execution_count": null,
   "metadata": {},
   "outputs": [],
   "source": [
    "def select_model(data, best_target):\n",
    "    target_type = determine_target_type(data[best_target])  \n",
    "\n",
    "    model_map = {\n",
    "        \"continuous\": \"linear_regression\",  # Single model\n",
    "        \"categorical_binary\": \"logistic_regression\", \n",
    "        \"categorical_many\": \"xgboost\" \n",
    "    }\n",
    "\n",
    "    return model_map.get(target_type, \"default_model\")  \n"
   ]
  },
  {
   "cell_type": "code",
   "execution_count": null,
   "metadata": {},
   "outputs": [
    {
     "data": {
      "text/plain": [
       "['linear_regression', 'random_forest']"
      ]
     },
     "execution_count": 83,
     "metadata": {},
     "output_type": "execute_result"
    }
   ],
   "source": [
    "select_model(data, best_target)"
   ]
  },
  {
   "cell_type": "code",
   "execution_count": null,
   "metadata": {},
   "outputs": [],
   "source": [
    "def create_model(model_type):\n",
    "    if model_type == \"linear_regression\":\n",
    "        return LinearRegression()\n",
    "    elif model_type == \"logistic_regression\":\n",
    "        return LogisticRegression()\n",
    "    elif model_type == \"decision_tree\":\n",
    "        return DecisionTreeClassifier()  # Assuming classification\n",
    "    elif model_type == \"xgboost\":\n",
    "        return XGBRegressor()  # Or XGBClassifier for classification\n",
    "    else:\n",
    "        raise ValueError(\"Unsupported model type\")\n"
   ]
  },
  {
   "cell_type": "code",
   "execution_count": null,
   "metadata": {},
   "outputs": [],
   "source": [
    "def select_and_evaluate_models(data, target_column, cv=5):\n",
    "    results = {} \n",
    "    best_params = {}  # Initialize here\n",
    "\n",
    "    target_type = determine_target_type(data[best_target]) \n",
    "    selected_model = select_model(data, target_column)  \n",
    "    \n",
    "    model = create_model(selected_model) \n",
    "    param_grid = define_param_grid(selected_model)  \n",
    "\n",
    "    grid_search = GridSearchCV(model, param_grid, cv=cv, scoring='neg_mean_squared_error')  \n",
    "    grid_search.fit(data.drop(target_column, axis=1), data[target_column])\n",
    "\n",
    "    results[selected_model] = grid_search.best_score_\n",
    "    best_params[selected_model] = grid_search.best_params_ # Store here\n",
    "\n",
    "    return results, best_params    "
   ]
  },
  {
   "cell_type": "code",
   "execution_count": null,
   "metadata": {},
   "outputs": [],
   "source": [
    "def define_param_grid(model_type):\n",
    "    param_grid = {}\n",
    "    if model_type == \"linear_regression\":\n",
    "        param_grid = {\"fit_intercept\": [True, False]} \n",
    "    elif model_type == \"random_forest\":\n",
    "        param_grid = {\n",
    "            \"n_estimators\": [50, 100, 200], \n",
    "            \"max_depth\": [3, 5, 10, None],\n",
    "            \"min_samples_split\": [2, 5, 10] \n",
    "        }\n",
    "    elif model_type == \"logistic_regression\":\n",
    "        param_grid = {\n",
    "            \"penalty\": ['l1', 'l2'],\n",
    "            \"C\": [0.01, 0.1, 1, 10], \n",
    "            \"solver\": ['liblinear', 'saga']\n",
    "        }\n",
    "    elif model_type == \"xgboost\":\n",
    "        param_grid = {\n",
    "            \"learning_rate\": [0.01, 0.1, 0.3],\n",
    "            \"n_estimators\": [50, 100, 200],\n",
    "            \"max_depth\": [3, 5, 8]\n",
    "        } \n",
    "    return param_grid"
   ]
  },
  {
   "cell_type": "code",
   "execution_count": null,
   "metadata": {},
   "outputs": [
    {
     "name": "stdout",
     "output_type": "stream",
     "text": [
      "continuous\n"
     ]
    }
   ],
   "source": [
    "target_type = determine_target_type(data[best_target])\n",
    "print(target_type)"
   ]
  },
  {
   "cell_type": "code",
   "execution_count": null,
   "metadata": {},
   "outputs": [],
   "source": [
    "results, best_params = select_and_evaluate_models(data, best_target)\n",
    "best_model_type = max(results, key=results.get)"
   ]
  },
  {
   "cell_type": "code",
   "execution_count": null,
   "metadata": {},
   "outputs": [
    {
     "name": "stdout",
     "output_type": "stream",
     "text": [
      "Best Model: linear_regression\n"
     ]
    }
   ],
   "source": [
    "print(\"Best Model:\", best_model_type) "
   ]
  },
  {
   "cell_type": "code",
   "execution_count": null,
   "metadata": {},
   "outputs": [
    {
     "name": "stdout",
     "output_type": "stream",
     "text": [
      "Best Parameters: {'fit_intercept': False}\n"
     ]
    }
   ],
   "source": [
    "print(\"Best Parameters:\", best_params[best_model_type])"
   ]
  },
  {
   "cell_type": "markdown",
   "metadata": {},
   "source": [
    "LOADING THE BEST MODEL"
   ]
  },
  {
   "cell_type": "code",
   "execution_count": null,
   "metadata": {},
   "outputs": [],
   "source": [
    "def load_best_model(best_model_type, best_params):\n",
    "    if best_model_type == \"linear_regression\":\n",
    "        return LinearRegression(fit_intercept=best_params['fit_intercept'])  \n",
    "    elif best_model_type == \"logistic_regression\":\n",
    "        return LogisticRegression(**best_params) # Potentially adjust parameters \n",
    "    elif best_model_type == \"xgboost\": \n",
    "        return XGBRegressor(**best_params)  # Or XGBClassifier, adjust parameters\n",
    "    else:\n",
    "        raise ValueError(\"Unsupported model type\")\n"
   ]
  },
  {
   "cell_type": "markdown",
   "metadata": {},
   "source": [
    "SAVING THE MODEL INFO AS A PICKLE"
   ]
  },
  {
   "cell_type": "code",
   "execution_count": null,
   "metadata": {},
   "outputs": [],
   "source": [
    "import pickle\n",
    "with open('model_info.pkl', 'wb') as f:\n",
    "        pickle.dump({'model_type': best_model_type, 'params': best_params}, f)"
   ]
  },
  {
   "cell_type": "markdown",
   "metadata": {},
   "source": [
    "LOADING MODEL INFORMATION"
   ]
  },
  {
   "cell_type": "code",
   "execution_count": null,
   "metadata": {},
   "outputs": [],
   "source": [
    "with open('model_info.pkl', 'rb') as f:\n",
    "        model_info = pickle.load(f)\n",
    "best_model_type = model_info['model_type']\n",
    "best_params = model_info['params']"
   ]
  },
  {
   "cell_type": "code",
   "execution_count": null,
   "metadata": {},
   "outputs": [
    {
     "ename": "KeyError",
     "evalue": "'fit_intercept'",
     "output_type": "error",
     "traceback": [
      "\u001b[0;31m---------------------------------------------------------------------------\u001b[0m",
      "\u001b[0;31mKeyError\u001b[0m                                  Traceback (most recent call last)",
      "Cell \u001b[0;32mIn[156], line 1\u001b[0m\n\u001b[0;32m----> 1\u001b[0m best_model \u001b[38;5;241m=\u001b[39m \u001b[43mload_best_model\u001b[49m\u001b[43m(\u001b[49m\u001b[43mbest_model_type\u001b[49m\u001b[43m,\u001b[49m\u001b[43m \u001b[49m\u001b[43mbest_params\u001b[49m\u001b[43m)\u001b[49m\n",
      "Cell \u001b[0;32mIn[153], line 3\u001b[0m, in \u001b[0;36mload_best_model\u001b[0;34m(best_model_type, best_params)\u001b[0m\n\u001b[1;32m      1\u001b[0m \u001b[38;5;28;01mdef\u001b[39;00m \u001b[38;5;21mload_best_model\u001b[39m(best_model_type, best_params):\n\u001b[1;32m      2\u001b[0m     \u001b[38;5;28;01mif\u001b[39;00m best_model_type \u001b[38;5;241m==\u001b[39m \u001b[38;5;124m\"\u001b[39m\u001b[38;5;124mlinear_regression\u001b[39m\u001b[38;5;124m\"\u001b[39m:\n\u001b[0;32m----> 3\u001b[0m         \u001b[38;5;28;01mreturn\u001b[39;00m LinearRegression(fit_intercept\u001b[38;5;241m=\u001b[39m\u001b[43mbest_params\u001b[49m\u001b[43m[\u001b[49m\u001b[38;5;124;43m'\u001b[39;49m\u001b[38;5;124;43mfit_intercept\u001b[39;49m\u001b[38;5;124;43m'\u001b[39;49m\u001b[43m]\u001b[49m)  \n\u001b[1;32m      4\u001b[0m     \u001b[38;5;28;01melif\u001b[39;00m best_model_type \u001b[38;5;241m==\u001b[39m \u001b[38;5;124m\"\u001b[39m\u001b[38;5;124mlogistic_regression\u001b[39m\u001b[38;5;124m\"\u001b[39m:\n\u001b[1;32m      5\u001b[0m         \u001b[38;5;28;01mreturn\u001b[39;00m LogisticRegression(\u001b[38;5;241m*\u001b[39m\u001b[38;5;241m*\u001b[39mbest_params) \u001b[38;5;66;03m# Potentially adjust parameters \u001b[39;00m\n",
      "\u001b[0;31mKeyError\u001b[0m: 'fit_intercept'"
     ]
    }
   ],
   "source": [
    "best_model = load_best_model(best_model_type, best_params)"
   ]
  },
  {
   "cell_type": "code",
   "execution_count": null,
   "metadata": {},
   "outputs": [],
   "source": [
    "\n",
    "predictions = predict_on_new_data(best_model, new_data, best_target) \n",
    "print(\"Predictions:\", predictions)"
   ]
  }
 ],
 "metadata": {
  "kernelspec": {
   "display_name": "Python 3",
   "language": "python",
   "name": "python3"
  },
  "language_info": {
   "codemirror_mode": {
    "name": "ipython",
    "version": 3
   },
   "file_extension": ".py",
   "mimetype": "text/x-python",
   "name": "python",
   "nbconvert_exporter": "python",
   "pygments_lexer": "ipython3",
   "version": "3.10.12"
  }
 },
 "nbformat": 4,
 "nbformat_minor": 2
}
