{
 "cells": [
  {
   "cell_type": "code",
   "execution_count": 1,
   "metadata": {},
   "outputs": [],
   "source": [
    "import pandas as pd\n",
    "import numpy as np\n",
    "from scipy.stats import stats, chi2_contingency\n",
    "import matplotlib.pyplot as plt\n",
    "from sklearn.decomposition import PCA\n",
    "import pingouin as pg"
   ]
  },
  {
   "cell_type": "code",
   "execution_count": 4,
   "metadata": {},
   "outputs": [],
   "source": [
    "import pandas as pd\n",
    "\n",
    "def find_related_group(df, features, corr_threshold=0.6):\n",
    "    \"\"\"Identifies a group of features that are correlated above a threshold.\n",
    "\n",
    "    Args:\n",
    "        df (pandas.DataFrame): The DataFrame containing the features.\n",
    "        features (list): A list of feature names to start with.\n",
    "        corr_threshold (float): The minimum correlation for inclusion in the group.\n",
    "\n",
    "    Returns:\n",
    "        list: A list of correlated feature names (including the starting features).\n",
    "    \"\"\"\n",
    "\n",
    "    corr_matrix = df[features].corr()\n",
    "    related = []\n",
    "    for feat in features:\n",
    "        related += [f for f in corr_matrix[feat].index if abs(corr_matrix.loc[feat, f]) >= corr_threshold and f != feat]\n",
    "    return list(set(related + features))  # Ensure unique features\n"
   ]
  },
  {
   "cell_type": "code",
   "execution_count": 5,
   "metadata": {},
   "outputs": [],
   "source": [
    "import numpy as np\n",
    "from scipy.stats import pointbiserialr\n",
    "\n",
    "def point_biserial_correlation(categorical, numerical):\n",
    "    \"\"\"Calculates the point-biserial correlation coefficient.\n",
    "\n",
    "    Args:\n",
    "        categorical (array-like): Binary categorical variable.\n",
    "        numerical (array-like): Continuous numerical variable.\n",
    "\n",
    "    Returns:\n",
    "        float: Point-biserial correlation coefficient.\n",
    "    \"\"\"\n",
    "\n",
    "    corr, p_value = pointbiserialr(categorical, numerical)\n",
    "    return corr  \n"
   ]
  },
  {
   "cell_type": "code",
   "execution_count": 6,
   "metadata": {},
   "outputs": [],
   "source": [
    "def analyze_correlation(df, feature1, feature2):\n",
    "    \"\"\"\n",
    "    Performs correlation analysis between two features, handling numerical, \n",
    "    categorical, and mixed data types, generating hypotheses, and choosing plots.\n",
    "\n",
    "    Args:\n",
    "        df (pandas.DataFrame): The DataFrame containing the features.\n",
    "        feature1 (str): Name of the first feature.\n",
    "        feature2 (str): Name of the second feature.\n",
    "\n",
    "    Returns:\n",
    "        None (Outputs results directly)\n",
    "    \"\"\"\n",
    "\n",
    "    # Data extraction and basic checks\n",
    "    data1 = df[feature1]\n",
    "    data2 = df[feature2]\n",
    "\n",
    "    if not pd.api.types.is_numeric_dtype(data1) or not pd.api.types.is_numeric_dtype(data2):\n",
    "        print(\"Error: Features must be numeric or categorical.\")\n",
    "        return\n",
    "\n",
    "    # Categorical vs Categorical \n",
    "    if pd.api.types.is_categorical_dtype(data1) and pd.api.types.is_categorical_dtype(data2):\n",
    "        contingency = pd.crosstab(data1, data2)\n",
    "        chi2, p, dof, expected = chi2_contingency(contingency)\n",
    "        print(\"Chi-Square Statistic:\", chi2)\n",
    "        print(\"p-value:\", p)\n",
    "        cramer_v = pg.compute_effsize(contingency, eftype='cramer') \n",
    "        print(\"Cramer's V:\", cramer_v)\n",
    "        print(\"Consider creating a contingency table/heatmap.\")\n",
    "\n",
    "    # Categorical vs Numerical\n",
    "    elif pd.api.types.is_categorical_dtype(data1) and pd.api.types.is_numeric_dtype(data2):\n",
    "        print(\"Consider using box plots to compare distributions of the numerical feature across categories\")\n",
    "        print(\"Point-Biserial Correlation:\")\n",
    "        print(point_biserial_correlation(data1, data2))\n",
    "\n",
    "    # Both Numeric: \n",
    "    else:  \n",
    "        # Correlation, Visualization, and Regression\n",
    "        correlation, p_value = stats.pearsonr(data1, data2)\n",
    "        print(f\"Pearson's Correlation Coefficient: {correlation:.4f}\")\n",
    "        print(f\"p-value: {p_value:.4f}\")\n",
    "\n",
    "        if p_value < 0.05:  \n",
    "            print(\"The correlation is statistically significant.\")\n",
    "            # Scatter Plot with Regression Line\n",
    "            plt.scatter(data1, data2)\n",
    "            m, c = np.polyfit(data1, data2, 1)  \n",
    "            plt.plot(data1, m * data1 + c, color='red')  \n",
    "            plt.xlabel(feature1)\n",
    "            plt.ylabel(feature2)\n",
    "            plt.title(f\"Correlation between {feature1} and {feature2}\")\n",
    "            plt.show()\n",
    "\n",
    "            # Hypothesis based on strength\n",
    "            if abs(correlation) >= 0.8:\n",
    "                print(\"The correlation is strong. Consider linear regression.\")\n",
    "            else:\n",
    "                print(\"The correlation is moderate or weak. Explore curve fitting.\")\n",
    "\n",
    "    # Hypothesis: Feature Clustering\n",
    "    if feature1 in df.columns and feature2 in df.columns:\n",
    "        related_features = find_related_group(df, [feature1, feature2]) \n",
    "        if len(related_features) > 2:\n",
    "             print(f\"Potential Feature Cluster: {related_features}\")\n",
    "             plot_pca(df[related_features]) "
   ]
  },
  {
   "cell_type": "code",
   "execution_count": 7,
   "metadata": {},
   "outputs": [],
   "source": [
    "df = pd.read_csv('supermarket_sales.csv')"
   ]
  },
  {
   "cell_type": "code",
   "execution_count": null,
   "metadata": {},
   "outputs": [],
   "source": [
    "df.info()"
   ]
  },
  {
   "cell_type": "code",
   "execution_count": 9,
   "metadata": {},
   "outputs": [
    {
     "name": "stdout",
     "output_type": "stream",
     "text": [
      "Error: Features must be numeric or categorical.\n"
     ]
    }
   ],
   "source": [
    "analyze_correlation(df, 'Total', 'Gender')"
   ]
  }
 ],
 "metadata": {
  "kernelspec": {
   "display_name": "Python 3",
   "language": "python",
   "name": "python3"
  },
  "language_info": {
   "codemirror_mode": {
    "name": "ipython",
    "version": 3
   },
   "file_extension": ".py",
   "mimetype": "text/x-python",
   "name": "python",
   "nbconvert_exporter": "python",
   "pygments_lexer": "ipython3",
   "version": "3.10.12"
  }
 },
 "nbformat": 4,
 "nbformat_minor": 2
}
